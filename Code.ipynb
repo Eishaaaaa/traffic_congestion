import pandas as pd
from sklearn.model_selection import train_test_split
from sklearn.preprocessing import LabelEncoder, StandardScaler
from sklearn.ensemble import RandomForestClassifier
from sklearn.metrics import classification_report, confusion_matrix
import matplotlib.pyplot as plt
import seaborn as sns

# Load dataset
df = pd.read_csv("traffic_congestion.csv")

# One-hot encode time_of_day
df_encoded = pd.get_dummies(df, columns=["time_of_day"])

# Encode the target variable
label_encoder = LabelEncoder()
df_encoded["congestion_level_encoded"] = label_encoder.fit_transform(df_encoded["congestion_level"])

# Features and target
X = df_encoded.drop(["congestion_level", "congestion_level_encoded"], axis=1)
y = df_encoded["congestion_level_encoded"]

# Feature scaling
scaler = StandardScaler()
X_scaled = scaler.fit_transform(X)

# Train/test split
X_train, X_test, y_train, y_test = train_test_split(
    X_scaled, y, test_size=0.2, random_state=42, stratify=y
)

# Train RandomForest model
model = RandomForestClassifier(random_state=42)
model.fit(X_train, y_train)

# ======= MODEL EVALUATION =======
y_pred = model.predict(X_test)
y_pred_labels = label_encoder.inverse_transform(y_pred)
y_test_labels = label_encoder.inverse_transform(y_test)

print("📊 Classification Report:\n")
print(classification_report(y_test_labels, y_pred_labels))

# Optional: Show Confusion Matrix
conf_matrix = confusion_matrix(y_test_labels, y_pred_labels)
plt.figure(figsize=(6, 4))
sns.heatmap(conf_matrix, annot=True, cmap='Blues',
            xticklabels=label_encoder.classes_, yticklabels=label_encoder.classes_)
plt.title("Confusion Matrix")
plt.xlabel("Predicted")
plt.ylabel("Actual")
plt.tight_layout()
plt.show()

# ======= USER INPUT PREDICTION =======
def predict_congestion(sensor_count, avg_speed, time_of_day):
    time_data = {
        "time_of_day_evening": 1 if time_of_day == "evening" else 0,
        "time_of_day_morning": 1 if time_of_day == "morning" else 0,
        "time_of_day_night": 1 if time_of_day == "night" else 0
    }

    input_data = pd.DataFrame([{
        "sensor_count": sensor_count,
        "avg_speed": avg_speed,
        **time_data
    }])

    for col in X.columns:
        if col not in input_data.columns:
            input_data[col] = 0

    input_data = input_data[X.columns]
    input_scaled = scaler.transform(input_data)
    prediction_encoded = model.predict(input_scaled)[0]
    prediction_label = label_encoder.inverse_transform([prediction_encoded])[0]

    return prediction_label

# ==== Get Input from User ====
print("\n🧾 Enter values to predict traffic congestion:")
sensor_count = int(input("Sensor Count: "))
avg_speed = float(input("Average Speed: "))
time_of_day = input("Time of Day (morning/evening/night): ").lower()

# ==== Predict and Output ====
prediction = predict_congestion(sensor_count, avg_speed, time_of_day)
print(f"\n🚦 Predicted Congestion :{predicted}")
